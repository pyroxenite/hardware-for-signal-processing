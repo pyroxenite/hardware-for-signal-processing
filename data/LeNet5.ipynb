{
 "cells": [
  {
   "cell_type": "code",
   "execution_count": 2,
   "id": "a490f7a0-cb6d-4048-87e6-3fa66ee45232",
   "metadata": {},
   "outputs": [
    {
     "name": "stderr",
     "output_type": "stream",
     "text": [
      "2022-12-13 12:25:59.989003: I tensorflow/core/platform/cpu_feature_guard.cc:193] This TensorFlow binary is optimized with oneAPI Deep Neural Network Library (oneDNN) to use the following CPU instructions in performance-critical operations:  AVX2 FMA\n",
      "To enable them in other operations, rebuild TensorFlow with the appropriate compiler flags.\n",
      "2022-12-13 12:26:00.076351: W tensorflow/compiler/xla/stream_executor/platform/default/dso_loader.cc:64] Could not load dynamic library 'libcudart.so.11.0'; dlerror: libcudart.so.11.0: cannot open shared object file: No such file or directory\n",
      "2022-12-13 12:26:00.076385: I tensorflow/compiler/xla/stream_executor/cuda/cudart_stub.cc:29] Ignore above cudart dlerror if you do not have a GPU set up on your machine.\n",
      "2022-12-13 12:26:00.660187: W tensorflow/compiler/xla/stream_executor/platform/default/dso_loader.cc:64] Could not load dynamic library 'libnvinfer.so.7'; dlerror: libnvinfer.so.7: cannot open shared object file: No such file or directory\n",
      "2022-12-13 12:26:00.660279: W tensorflow/compiler/xla/stream_executor/platform/default/dso_loader.cc:64] Could not load dynamic library 'libnvinfer_plugin.so.7'; dlerror: libnvinfer_plugin.so.7: cannot open shared object file: No such file or directory\n",
      "2022-12-13 12:26:00.660287: W tensorflow/compiler/tf2tensorrt/utils/py_utils.cc:38] TF-TRT Warning: Cannot dlopen some TensorRT libraries. If you would like to use Nvidia GPU with TensorRT, please make sure the missing libraries mentioned above are installed properly.\n"
     ]
    }
   ],
   "source": [
    "import tensorflow as tf\n",
    "from tensorflow import keras\n",
    "import numpy as np\n",
    "from matplotlib import pyplot\n",
    "from keras.models import model_from_json"
   ]
  },
  {
   "cell_type": "code",
   "execution_count": 3,
   "id": "93d3031b-4533-4aec-a39f-02e28c2e70a7",
   "metadata": {},
   "outputs": [
    {
     "name": "stdout",
     "output_type": "stream",
     "text": [
      "Downloading data from https://storage.googleapis.com/tensorflow/tf-keras-datasets/mnist.npz\n",
      "11490434/11490434 [==============================] - 0s 0us/step\n"
     ]
    },
    {
     "data": {
      "text/plain": [
       "(60000, 28, 28)"
      ]
     },
     "execution_count": 3,
     "metadata": {},
     "output_type": "execute_result"
    }
   ],
   "source": [
    "(train_x, train_y), (test_x, test_y) = keras.datasets.mnist.load_data()\n",
    "train_x = train_x / 255.0\n",
    "test_x = test_x / 255.0\n",
    "train_x.shape"
   ]
  },
  {
   "cell_type": "code",
   "execution_count": 4,
   "id": "f25fabb6-19d5-49a4-9598-085544a8aab2",
   "metadata": {},
   "outputs": [
    {
     "name": "stderr",
     "output_type": "stream",
     "text": [
      "2022-12-13 12:26:07.736859: I tensorflow/compiler/xla/stream_executor/cuda/cuda_gpu_executor.cc:981] successful NUMA node read from SysFS had negative value (-1), but there must be at least one NUMA node, so returning NUMA node zero\n",
      "2022-12-13 12:26:07.737271: W tensorflow/compiler/xla/stream_executor/platform/default/dso_loader.cc:64] Could not load dynamic library 'libcudart.so.11.0'; dlerror: libcudart.so.11.0: cannot open shared object file: No such file or directory\n",
      "2022-12-13 12:26:07.737333: W tensorflow/compiler/xla/stream_executor/platform/default/dso_loader.cc:64] Could not load dynamic library 'libcublas.so.11'; dlerror: libcublas.so.11: cannot open shared object file: No such file or directory\n",
      "2022-12-13 12:26:07.737383: W tensorflow/compiler/xla/stream_executor/platform/default/dso_loader.cc:64] Could not load dynamic library 'libcublasLt.so.11'; dlerror: libcublasLt.so.11: cannot open shared object file: No such file or directory\n",
      "2022-12-13 12:26:07.761040: W tensorflow/compiler/xla/stream_executor/platform/default/dso_loader.cc:64] Could not load dynamic library 'libcusolver.so.11'; dlerror: libcusolver.so.11: cannot open shared object file: No such file or directory\n",
      "2022-12-13 12:26:07.761096: W tensorflow/compiler/xla/stream_executor/platform/default/dso_loader.cc:64] Could not load dynamic library 'libcusparse.so.11'; dlerror: libcusparse.so.11: cannot open shared object file: No such file or directory\n",
      "2022-12-13 12:26:07.761153: W tensorflow/compiler/xla/stream_executor/platform/default/dso_loader.cc:64] Could not load dynamic library 'libcudnn.so.8'; dlerror: libcudnn.so.8: cannot open shared object file: No such file or directory\n",
      "2022-12-13 12:26:07.761164: W tensorflow/core/common_runtime/gpu/gpu_device.cc:1934] Cannot dlopen some GPU libraries. Please make sure the missing libraries mentioned above are installed properly if you would like to use GPU. Follow the guide at https://www.tensorflow.org/install/gpu for how to download and setup the required libraries for your platform.\n",
      "Skipping registering GPU devices...\n",
      "2022-12-13 12:26:07.762015: I tensorflow/core/platform/cpu_feature_guard.cc:193] This TensorFlow binary is optimized with oneAPI Deep Neural Network Library (oneDNN) to use the following CPU instructions in performance-critical operations:  AVX2 FMA\n",
      "To enable them in other operations, rebuild TensorFlow with the appropriate compiler flags.\n",
      "2022-12-13 12:26:07.762457: W tensorflow/tsl/framework/cpu_allocator_impl.cc:82] Allocation of 376320000 exceeds 10% of free system memory.\n",
      "2022-12-13 12:26:07.942442: W tensorflow/tsl/framework/cpu_allocator_impl.cc:82] Allocation of 62720000 exceeds 10% of free system memory.\n"
     ]
    },
    {
     "data": {
      "text/plain": [
       "TensorShape([60000, 28, 28, 1])"
      ]
     },
     "execution_count": 4,
     "metadata": {},
     "output_type": "execute_result"
    }
   ],
   "source": [
    "train_x = tf.expand_dims(train_x, 3)\n",
    "test_x = tf.expand_dims(test_x, 3)\n",
    "val_x = train_x[:5000]\n",
    "val_y = train_y[:5000]\n",
    "train_x.shape"
   ]
  },
  {
   "cell_type": "code",
   "execution_count": 5,
   "id": "932346b8-8227-448e-aa93-8912ca971962",
   "metadata": {},
   "outputs": [],
   "source": [
    "lenet_5_model = keras.models.Sequential([\n",
    "    keras.layers.Conv2D(6, kernel_size=5, strides=1,  activation='tanh', input_shape=train_x[0].shape, padding='same'), #C1\n",
    "    keras.layers.AveragePooling2D(), #S2\n",
    "    keras.layers.Conv2D(16, kernel_size=5, strides=1, activation='tanh', padding='valid'), #C3\n",
    "    keras.layers.AveragePooling2D(), #S4\n",
    "    keras.layers.Flatten(), #Flatten\n",
    "    keras.layers.Dense(120, activation='tanh'), #C5\n",
    "    keras.layers.Dense(84, activation='tanh'), #F6\n",
    "    keras.layers.Dense(10, activation='softmax') #Output layer\n",
    "])"
   ]
  },
  {
   "cell_type": "code",
   "execution_count": 6,
   "id": "0f9c7fb0-964d-4279-8347-1533097d7c66",
   "metadata": {},
   "outputs": [],
   "source": [
    "lenet_5_model.compile(optimizer='adam',loss=keras.losses.sparse_categorical_crossentropy, metrics=['accuracy'])"
   ]
  },
  {
   "cell_type": "code",
   "execution_count": 7,
   "id": "c1dadc66-075f-4398-9849-4dc87647163f",
   "metadata": {},
   "outputs": [
    {
     "name": "stdout",
     "output_type": "stream",
     "text": [
      "Epoch 1/5\n",
      "  26/1875 [..............................] - ETA: 11s - loss: 1.5258 - accuracy: 0.5950"
     ]
    },
    {
     "name": "stderr",
     "output_type": "stream",
     "text": [
      "2022-12-13 12:26:20.730717: W tensorflow/tsl/framework/cpu_allocator_impl.cc:82] Allocation of 24840000 exceeds 10% of free system memory.\n",
      "2022-12-13 12:26:20.731773: W tensorflow/tsl/framework/cpu_allocator_impl.cc:82] Allocation of 24840000 exceeds 10% of free system memory.\n",
      "2022-12-13 12:26:20.732733: W tensorflow/tsl/framework/cpu_allocator_impl.cc:82] Allocation of 25244800 exceeds 10% of free system memory.\n"
     ]
    },
    {
     "name": "stdout",
     "output_type": "stream",
     "text": [
      "1875/1875 [==============================] - 13s 7ms/step - loss: 0.2207 - accuracy: 0.9337 - val_loss: 0.0911 - val_accuracy: 0.9734\n",
      "Epoch 2/5\n",
      "1875/1875 [==============================] - 12s 6ms/step - loss: 0.0849 - accuracy: 0.9740 - val_loss: 0.0529 - val_accuracy: 0.9848\n",
      "Epoch 3/5\n",
      "1875/1875 [==============================] - 12s 6ms/step - loss: 0.0578 - accuracy: 0.9819 - val_loss: 0.0400 - val_accuracy: 0.9876\n",
      "Epoch 4/5\n",
      "1875/1875 [==============================] - 12s 6ms/step - loss: 0.0429 - accuracy: 0.9864 - val_loss: 0.0325 - val_accuracy: 0.9904\n",
      "Epoch 5/5\n",
      "1875/1875 [==============================] - 12s 6ms/step - loss: 0.0340 - accuracy: 0.9888 - val_loss: 0.0231 - val_accuracy: 0.9930\n"
     ]
    },
    {
     "data": {
      "text/plain": [
       "<keras.callbacks.History at 0x7f7e9a218b20>"
      ]
     },
     "execution_count": 7,
     "metadata": {},
     "output_type": "execute_result"
    }
   ],
   "source": [
    "lenet_5_model.fit(train_x, train_y, epochs=5, validation_data=(val_x, val_y))"
   ]
  },
  {
   "cell_type": "code",
   "execution_count": 8,
   "id": "b9886896-43dc-4831-a595-7f040928b87f",
   "metadata": {},
   "outputs": [
    {
     "name": "stdout",
     "output_type": "stream",
     "text": [
      "313/313 [==============================] - 1s 3ms/step - loss: 0.0403 - accuracy: 0.9869\n"
     ]
    },
    {
     "data": {
      "text/plain": [
       "[0.04031587019562721, 0.9868999719619751]"
      ]
     },
     "execution_count": 8,
     "metadata": {},
     "output_type": "execute_result"
    }
   ],
   "source": [
    "lenet_5_model.evaluate(test_x, test_y)"
   ]
  },
  {
   "cell_type": "code",
   "execution_count": 9,
   "id": "e6e8ca62-f863-4e73-acac-25cd7c8d91f9",
   "metadata": {},
   "outputs": [
    {
     "data": {
      "image/png": "[encoded data removed]",
      "text/plain": [
       "<Figure size 432x288 with 1 Axes>"
      ]
     },
     "metadata": {
      "needs_background": "light"
     },
     "output_type": "display_data"
    },
    {
     "data": {
      "image/png": "[encoded data removed]",
      "text/plain": [
       "<Figure size 432x288 with 1 Axes>"
      ]
     },
     "metadata": {
      "needs_background": "light"
     },
     "output_type": "display_data"
    },
    {
     "data": {
      "image/png": "[encoded data removed]",
      "text/plain": [
       "<Figure size 432x288 with 1 Axes>"
      ]
     },
     "metadata": {
      "needs_background": "light"
     },
     "output_type": "display_data"
    }
   ],
   "source": [
    "for i in range(3):  \n",
    "    pyplot.subplot(330 + 1 + i)\n",
    "    pyplot.imshow(train_x[i], cmap=pyplot.get_cmap('gray'))\n",
    "    pyplot.show()"
   ]
  },
  {
   "cell_type": "code",
   "execution_count": 15,
   "id": "e4039b16-8b65-4686-8e77-d8933555c2b1",
   "metadata": {},
   "outputs": [
    {
     "name": "stdout",
     "output_type": "stream",
     "text": [
      "Model: \"sequential_1\"\n",
      "_________________________________________________________________\n",
      " Layer (type)                Output Shape              Param #   \n",
      "=================================================================\n",
      " conv2d_2 (Conv2D)           (None, 28, 28, 6)         156       \n",
      "                                                                 \n",
      " average_pooling2d_2 (Averag  (None, 14, 14, 6)        0         \n",
      " ePooling2D)                                                     \n",
      "                                                                 \n",
      " conv2d_3 (Conv2D)           (None, 10, 10, 16)        2416      \n",
      "                                                                 \n",
      " average_pooling2d_3 (Averag  (None, 5, 5, 16)         0         \n",
      " ePooling2D)                                                     \n",
      "                                                                 \n",
      " flatten_1 (Flatten)         (None, 400)               0         \n",
      "                                                                 \n",
      " dense_3 (Dense)             (None, 120)               48120     \n",
      "                                                                 \n",
      " dense_4 (Dense)             (None, 84)                10164     \n",
      "                                                                 \n",
      " dense_5 (Dense)             (None, 10)                850       \n",
      "                                                                 \n",
      "=================================================================\n",
      "Total params: 61,706\n",
      "Trainable params: 61,706\n",
      "Non-trainable params: 0\n",
      "_________________________________________________________________\n"
     ]
    }
   ],
   "source": [
    "lenet_5_model.summary()"
   ]
  },
  {
   "cell_type": "code",
   "execution_count": 15,
   "id": "96f41074-dc29-43e1-a84f-233b35dd4d46",
   "metadata": {},
   "outputs": [
    {
     "data": {
      "text/plain": [
       "array([-0.02527725, -0.08090027,  0.08109065, -0.06407891,  0.10116079,\n",
       "       -0.10863889], dtype=float32)"
      ]
     },
     "execution_count": 15,
     "metadata": {},
     "output_type": "execute_result"
    }
   ],
   "source": [
    "lenet_5_model.layers[0].get_weights()[1]"
   ]
  },
  {
   "cell_type": "code",
   "execution_count": 16,
   "id": "929aed57-808a-4df6-a9f7-ce9eec9d4ba1",
   "metadata": {},
   "outputs": [],
   "source": [
    "lenet_5_model.layers[0].get_weights()[0].astype(\"float32\").tofile(\"conv1-weights.bin\")\n",
    "lenet_5_model.layers[2].get_weights()[0].astype(\"float32\").tofile(\"conv2-weights.bin\")\n",
    "\n",
    "lenet_5_model.layers[0].get_weights()[1].astype(\"float32\").tofile(\"conv1-bias.bin\")\n",
    "lenet_5_model.layers[2].get_weights()[1].astype(\"float32\").tofile(\"conv2-bias.bin\")\n",
    "\n",
    "lenet_5_model.layers[5].get_weights()[0].astype(\"float32\").tofile(\"dense1-weights.bin\")\n",
    "lenet_5_model.layers[6].get_weights()[0].astype(\"float32\").tofile(\"dense2-weights.bin\")\n",
    "lenet_5_model.layers[7].get_weights()[0].astype(\"float32\").tofile(\"dense3-weights.bin\")\n",
    "\n",
    "lenet_5_model.layers[5].get_weights()[1].astype(\"float32\").tofile(\"dense1-bias.bin\")\n",
    "lenet_5_model.layers[6].get_weights()[1].astype(\"float32\").tofile(\"dense2-bias.bin\")\n",
    "lenet_5_model.layers[7].get_weights()[1].astype(\"float32\").tofile(\"dense3-bias.bin\")"
   ]
  },
  {
   "cell_type": "code",
   "execution_count": 22,
   "id": "e327f407",
   "metadata": {},
   "outputs": [
    {
     "data": {
      "text/plain": [
       "array([[ 0. ,  0.5,  1. ],\n",
       "       [-0.5,  0. ,  0.5],\n",
       "       [-1. , -0.5,  0. ]])"
      ]
     },
     "execution_count": 22,
     "metadata": {},
     "output_type": "execute_result"
    }
   ],
   "source": [
    "test = np.array([[(i-j)/2 for i in range(3)] for j in range(3)])\n",
    "test"
   ]
  },
  {
   "cell_type": "code",
   "execution_count": 23,
   "id": "ad49d469",
   "metadata": {},
   "outputs": [],
   "source": [
    "test.astype(\"float32\").tofile(\"test.bin\")"
   ]
  },
  {
   "cell_type": "code",
   "execution_count": 26,
   "id": "94dddc23",
   "metadata": {},
   "outputs": [
    {
     "data": {
      "text/plain": [
       "array([[[ 0. ,  0.5,  1. ],\n",
       "        [-0.5,  0. ,  0.5],\n",
       "        [-1. , -0.5,  0. ]],\n",
       "\n",
       "       [[ 0. ,  1. ,  2. ],\n",
       "        [-1. ,  0. ,  1. ],\n",
       "        [-2. , -1. ,  0. ]],\n",
       "\n",
       "       [[ 0. ,  1.5,  3. ],\n",
       "        [-1.5,  0. ,  1.5],\n",
       "        [-3. , -1.5,  0. ]],\n",
       "\n",
       "       [[-0. , -0.5, -1. ],\n",
       "        [ 0.5, -0. , -0.5],\n",
       "        [ 1. ,  0.5, -0. ]]])"
      ]
     },
     "execution_count": 26,
     "metadata": {},
     "output_type": "execute_result"
    }
   ],
   "source": [
    "testMulti = np.array([test, test * 2, test * 3, test * -1])\n",
    "testMulti"
   ]
  },
  {
   "cell_type": "code",
   "execution_count": 27,
   "id": "65a83357",
   "metadata": {},
   "outputs": [],
   "source": [
    "testMulti.astype(\"float32\").tofile(\"testMulti.bin\")"
   ]
  },
  {
   "cell_type": "code",
   "execution_count": 28,
   "id": "e1ac4cb2",
   "metadata": {},
   "outputs": [
    {
     "data": {
      "text/plain": [
       "array([[-2.5, -1. ,  0.5],\n",
       "       [-1. , -1. , -1. ],\n",
       "       [ 0.5, -1. , -2.5]])"
      ]
     },
     "execution_count": 28,
     "metadata": {},
     "output_type": "execute_result"
    }
   ],
   "source": [
    "test.dot(testMulti[1])"
   ]
  },
  {
   "cell_type": "code",
   "execution_count": null,
   "id": "eb5163c5",
   "metadata": {},
   "outputs": [],
   "source": []
  }
 ],
 "metadata": {
  "kernelspec": {
   "display_name": "Python 3 (ipykernel)",
   "language": "python",
   "name": "python3"
  },
  "language_info": {
   "codemirror_mode": {
    "name": "ipython",
    "version": 3
   },
   "file_extension": ".py",
   "mimetype": "text/x-python",
   "name": "python",
   "nbconvert_exporter": "python",
   "pygments_lexer": "ipython3",
   "version": "3.9.12"
  },
  "vscode": {
   "interpreter": {
    "hash": "916dbcbb3f70747c44a77c7bcd40155683ae19c65e1c03b4aa3499c5328201f1"
   }
  }
 },
 "nbformat": 4,
 "nbformat_minor": 5
}
